{
 "cells": [
  {
   "cell_type": "code",
   "execution_count": 3,
   "id": "5b30bd8a",
   "metadata": {},
   "outputs": [],
   "source": [
    "from transformers import AutoTokenizer, AutoModelForSequenceClassification, DataCollatorWithPadding, TrainingArguments, Trainer\n",
    "import torch\n",
    "import datasets\n",
    "import evaluate\n",
    "import pandas as pd\n",
    "import numpy as np\n",
    "import accelerate\n",
    "\n",
    "\n",
    "train_dataset = pd.read_csv('./datasets/train_ptbr.csv')\n",
    "validation_dataset = pd.read_csv('./datasets/test_ptbr.csv')\n",
    "train_dataset.drop(columns=['id'], inplace=True)\n",
    "validation_dataset.drop(columns=['id'], inplace=True)\n",
    "\n",
    "classes = train_dataset.columns[1:].tolist()\n",
    "class2id = {cls: i for i, cls in enumerate(classes)}\n",
    "id2class = {i: cls for cls, i in class2id.items()}\n",
    "\n",
    "def create_labels(row):\n",
    "    return row[classes].astype(float).tolist()\n",
    "\n",
    "train_dataset['labels'] = train_dataset.apply(create_labels, axis=1)\n",
    "validation_dataset['labels'] = validation_dataset.apply(create_labels, axis=1)"
   ]
  },
  {
   "cell_type": "code",
   "execution_count": 4,
   "id": "244d0e4a",
   "metadata": {},
   "outputs": [
    {
     "name": "stdout",
     "output_type": "stream",
     "text": [
      "Thu Jul 10 03:29:05 2025       \n",
      "+-----------------------------------------------------------------------------------------+\n",
      "| NVIDIA-SMI 576.57                 Driver Version: 576.57         CUDA Version: 12.9     |\n",
      "|-----------------------------------------+------------------------+----------------------+\n",
      "| GPU  Name                  Driver-Model | Bus-Id          Disp.A | Volatile Uncorr. ECC |\n",
      "| Fan  Temp   Perf          Pwr:Usage/Cap |           Memory-Usage | GPU-Util  Compute M. |\n",
      "|                                         |                        |               MIG M. |\n",
      "|=========================================+========================+======================|\n",
      "|   0  NVIDIA GeForce GTX 1070      WDDM  |   00000000:01:00.0  On |                  N/A |\n",
      "|  0%   49C    P0             37W /  180W |     573MiB /   8192MiB |      5%      Default |\n",
      "|                                         |                        |                  N/A |\n",
      "+-----------------------------------------+------------------------+----------------------+\n",
      "                                                                                         \n",
      "+-----------------------------------------------------------------------------------------+\n",
      "| Processes:                                                                              |\n",
      "|  GPU   GI   CI              PID   Type   Process name                        GPU Memory |\n",
      "|        ID   ID                                                               Usage      |\n",
      "|=========================================================================================|\n",
      "|    0   N/A  N/A            4660    C+G   ...Chrome\\Application\\chrome.exe      N/A      |\n",
      "|    0   N/A  N/A            5524    C+G   ..._cw5n1h2txyewy\\SearchHost.exe      N/A      |\n",
      "|    0   N/A  N/A           10028    C+G   ...y\\StartMenuExperienceHost.exe      N/A      |\n",
      "|    0   N/A  N/A           10640    C+G   C:\\Windows\\explorer.exe               N/A      |\n",
      "|    0   N/A  N/A           11736    C+G   ...xyewy\\ShellExperienceHost.exe      N/A      |\n",
      "|    0   N/A  N/A           16116    C+G   ...5n1h2txyewy\\TextInputHost.exe      N/A      |\n",
      "|    0   N/A  N/A           19692    C+G   ...ms\\Microsoft VS Code\\Code.exe      N/A      |\n",
      "|    0   N/A  N/A           26776    C+G   ...indows\\System32\\ShellHost.exe      N/A      |\n",
      "|    0   N/A  N/A           32044    C+G   ....0.3296.93\\msedgewebview2.exe      N/A      |\n",
      "+-----------------------------------------------------------------------------------------+\n",
      "GPU available: True\n"
     ]
    }
   ],
   "source": [
    "!nvidia-smi\n",
    "print(\"GPU available:\", torch.cuda.is_available())"
   ]
  },
  {
   "cell_type": "code",
   "execution_count": 5,
   "id": "b958cc5f",
   "metadata": {},
   "outputs": [
    {
     "name": "stderr",
     "output_type": "stream",
     "text": [
      "Map: 100%|██████████| 2226/2226 [00:00<00:00, 5858.56 examples/s]\n",
      "Map: 100%|██████████| 2226/2226 [00:00<00:00, 5585.39 examples/s]\n"
     ]
    }
   ],
   "source": [
    "model_name = \"neuralmind/bert-base-portuguese-cased\" # google-bert/bert-base-multilingual-cased # distilbert/distilbert-base-multilingual-cased\n",
    "\n",
    "tokenizer = AutoTokenizer.from_pretrained(model_name)\n",
    "\n",
    "def preprocess_function(example):\n",
    "    return tokenizer(example['text'], truncation=True, padding='max_length', max_length=128)\n",
    "\n",
    "train_dataset = datasets.Dataset.from_pandas(train_dataset)\n",
    "validation_dataset = datasets.Dataset.from_pandas(validation_dataset)\n",
    "\n",
    "train_tokenized_dataset = train_dataset.map(preprocess_function)\n",
    "validation_tokenized_dataset = validation_dataset.map(preprocess_function)\n",
    "\n",
    "data_collator = DataCollatorWithPadding(tokenizer=tokenizer)"
   ]
  },
  {
   "cell_type": "code",
   "execution_count": 6,
   "id": "44b69db0",
   "metadata": {},
   "outputs": [],
   "source": [
    "clf_metrics = evaluate.combine([\"accuracy\", \"f1\", \"precision\", \"recall\"])\n",
    "\n",
    "def sigmoid(x):\n",
    "    return 1 / (1 + np.exp(-x))\n",
    "\n",
    "def compute_metrics(eval_pred):\n",
    "    predictions, labels = eval_pred\n",
    "    predictions = sigmoid(predictions)\n",
    "    predictions = (predictions > 0.5).astype(int).reshape(-1)\n",
    "    return clf_metrics.compute(predictions=predictions, references=labels.astype(int).reshape(-1))"
   ]
  },
  {
   "cell_type": "code",
   "execution_count": null,
   "id": "db588447",
   "metadata": {},
   "outputs": [],
   "source": [
    "model = AutoModelForSequenceClassification.from_pretrained(\n",
    "    model_name,\n",
    "    num_labels=len(classes),\n",
    "    id2label=id2class,\n",
    "    label2id=class2id,\n",
    "    problem_type=\"multi_label_classification\"\n",
    ")"
   ]
  },
  {
   "cell_type": "code",
   "execution_count": 8,
   "id": "b869fd28",
   "metadata": {},
   "outputs": [],
   "source": [
    "label_matrix = np.stack(train_dataset['labels'])\n",
    "class_counts = label_matrix.sum(axis=0)\n",
    "class_weights = (label_matrix.shape[0] - class_counts) / class_counts\n",
    "class_weights = torch.tensor(class_weights, dtype=torch.float32)\n",
    "\n",
    "def custom_compute_loss(outputs, labels, num_items_in_batch=None):\n",
    "    logits = outputs.logits\n",
    "    loss_fct = torch.nn.BCEWithLogitsLoss(pos_weight=class_weights.to(logits.device))\n",
    "    loss = loss_fct(logits, labels.float())\n",
    "    return loss"
   ]
  },
  {
   "cell_type": "code",
   "execution_count": null,
   "id": "b9fc22ab",
   "metadata": {},
   "outputs": [],
   "source": [
    "training_args = TrainingArguments(\n",
    "    \n",
    "   output_dir=\"multilabel_emotion\",\n",
    "   learning_rate=2e-5,\n",
    "   per_device_train_batch_size=3,\n",
    "   per_device_eval_batch_size=3,\n",
    "   num_train_epochs=2,\n",
    "   weight_decay=0.01,\n",
    "   eval_strategy=\"epoch\",\n",
    "   save_strategy=\"epoch\",\n",
    "   load_best_model_at_end=True,\n",
    ")\n",
    "\n",
    "trainer = Trainer(\n",
    "\n",
    "   model=model,\n",
    "   args=training_args,\n",
    "   train_dataset=train_tokenized_dataset,\n",
    "   eval_dataset=validation_tokenized_dataset,\n",
    "   tokenizer=tokenizer,\n",
    "   data_collator=data_collator,\n",
    "   compute_metrics=compute_metrics,\n",
    "   compute_loss_func=custom_compute_loss,\n",
    ")\n",
    "\n",
    "trainer.train()"
   ]
  },
  {
   "cell_type": "code",
   "execution_count": 14,
   "id": "b13df243",
   "metadata": {},
   "outputs": [
    {
     "name": "stdout",
     "output_type": "stream",
     "text": [
      "Texto: Caraca, eu comecei a assistir ontem e não imaginava que ficava tão louco\n",
      "\n",
      "Labels previstos: ['joy', 'sadness', 'surprise']\n",
      "\n",
      "Labels e suas respectivas probabilidades (desc):\n",
      "- joy: 0.6444\n",
      "- surprise: 0.5918\n",
      "- sadness: 0.5299\n",
      "- anger: 0.3581\n",
      "- fear: 0.3117\n",
      "- disgust: 0.1738\n"
     ]
    }
   ],
   "source": [
    "text = \"Caraca, eu comecei a assistir ontem e não imaginava que ficava tão louco\"\n",
    "\n",
    "encoding = tokenizer(text, truncation=True, padding='max_length', max_length=128, return_tensors='pt')\n",
    "encoding.to(trainer.model.device)\n",
    "\n",
    "outputs = trainer.model(**encoding)\n",
    "\n",
    "predictions = outputs.logits.detach().cpu().numpy()\n",
    "predictions = sigmoid(predictions)\n",
    "filtered_predictions = (predictions > 0.5).astype(int).reshape(-1)\n",
    "\n",
    "predicted_labels = [id2class[i] for i, pred in enumerate(filtered_predictions) if pred == 1]\n",
    "print(f\"Texto: {text}\\n\")\n",
    "print(f\"Labels previstos: {predicted_labels}\\n\")\n",
    "\n",
    "\n",
    "predictions = predictions[0]\n",
    "sorted_indices = np.argsort(predictions)[::-1]\n",
    "print(\"Labels e suas respectivas probabilidades (desc):\")\n",
    "for idx in sorted_indices:\n",
    "    print(f\"- {id2class[idx]}: {predictions[idx]:.4f}\")"
   ]
  }
 ],
 "metadata": {
  "kernelspec": {
   "display_name": "Python 3",
   "language": "python",
   "name": "python3"
  },
  "language_info": {
   "codemirror_mode": {
    "name": "ipython",
    "version": 3
   },
   "file_extension": ".py",
   "mimetype": "text/x-python",
   "name": "python",
   "nbconvert_exporter": "python",
   "pygments_lexer": "ipython3",
   "version": "3.13.1"
  }
 },
 "nbformat": 4,
 "nbformat_minor": 5
}
