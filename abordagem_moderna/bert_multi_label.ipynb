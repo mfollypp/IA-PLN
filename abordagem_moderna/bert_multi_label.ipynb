{
 "cells": [
  {
   "cell_type": "markdown",
   "id": "37914b8c",
   "metadata": {},
   "source": [
    "# Text-based emotion detection (Multi-Label Text Classification)\n",
    "\n",
    "## Abordagem Moderna para PLN: BERT pre-treinado em Português\n",
    "\n",
    "---\n",
    "\n",
    "### Sobre:\n",
    "A tarefa se enquadra como uma \"Multi-Label Text Classification\", que dado uma entrada de texto consiste em classificá-la em múltiplos rótulos possíveis simultaneamente. O que é diferente da tarefa de \"Multi-Class\", que apesar de ter múltiplas classes consiste em classificar a entrada em apenas uma delas. A imagem abaixo exemplifica bem a diferença entre as classificações:\n",
    "\n",
    "![multilabel_example](./images/multilabel_multiclass_example.png \"https://www.mathworks.com/help/examples/nnet/win64/MultilabelImageClassificationUsingDeepLearningExample_01.png\")\n",
    "\n",
    "Os datasets utilizados nesse trabalho foram obtidos pela Trilha A do desafio [SemEval2025-Task11](https://github.com/emotion-analysis-project/SemEval2025-task11) cujo objetivo é a detecção e classificação de emoções em texto, sendo que cada texto pode expressar múltiplas emoções. As emoções contidas no datased são: raiva, nojo, medo, alegria, tristeza e surpresa. Foi utilizado o dataset em português.\n",
    "\n",
    "Obs.: Foi instalado o NVIDIA CUDA Toolkit e a placa utilizada foi uma GTX 1070.\n",
    "\n",
    "---\n",
    "\n",
    "### Pre-processamento: \n",
    "O preprocessamento foi remover a coluna \"id\", pois não é interessante para treinar o modelo, e criar uma coluna \"labels\", que é um array ordenado com os valores de 1 e 0 para cada coluna das emoções respectivamente, pois para utilizar a biblioteca datasets e a trainer do huggin face espera seja esse formato.\n",
    "\n",
    "---\n",
    "\n",
    "### Estrategias Utilizadas: \n",
    "Após checar a distribuição das classes, como os dados são predominantemente anger e joy, foi utilizado também uma técnica para balanceamento de classes, fornecendo um maior peso para as classes restantes e resultando em um modelo mais balanceado. O tokenizer e modelo utilizados foram extraídos do huggin face [BERTimbau Base](https://huggingface.co/neuralmind/bert-base-portuguese-cased), que é um modelo BERT pre-treinado em português. Para o treino foi utilizado o train_ptbr.csv e para a avaliação foi utilizado o test_ptbr.csv. \n",
    "\n",
    "---\n",
    "\n",
    "### Resultados Obtidos:\n",
    "Para os resultados analisamos acurácia, f1, precisão e recall, sendo cada um deles:\n",
    "- Acurácia: Proporção de previsões corretas sobre o total de exemplos.\n",
    "- F1: Média entre precisão e recall, útil para avaliar o equilíbrio entre acertos e erros, especialmente em dados desbalanceados.\n",
    "- Precisão: Proporção de exemplos classificados como positivos que realmente são positivos. Foca na qualidade das previsões positivas (poucos falsos positivos).\n",
    "- Recall: Proporção de exemplos positivos que foram corretamente identificados pelo modelo. Foca na completude das previsões positivas (poucos falsos negativos).\n",
    "\n",
    "Treinamos com 1, 2, 3 e 4 epochs, o melhor foi com 2 epochs, resultando em:\n",
    "- Acurácia: 0.894804\n",
    "- F1: 0.636481\n",
    "- Precisão: 0.647028\n",
    "- Recall: 0.626273\n",
    "\n",
    "---\n",
    "\n",
    "### Trabalhos Relacionados:\n",
    "- TANG, Tiancheng; TANG, Xinhuai; YUAN, Tianyi. Fine-tuning BERT for multi-label sentiment analysis in unbalanced code-switching text. IEEE Access, v. 8, p. 193248-193256, 2020.\n",
    "- ZAHERA, Hamada M. et al. Fine-tuned BERT Model for Multi-Label Tweets Classification. In: TREC. 2019. p. 1-7.\n",
    "- LIU, Xuan et al. Emotion classification for short texts: an improved multi-label method. Humanities and Social Sciences Communications, v. 10, n. 1, p. 1-9, 2023.\n",
    "- JABREEL, Mohammed; MORENO, Antonio. A deep learning-based approach for multi-label emotion classification in tweets. Applied Sciences, v. 9, n. 6, p. 1123, 2019.\n"
   ]
  },
  {
   "cell_type": "code",
   "execution_count": 78,
   "id": "5b30bd8a",
   "metadata": {},
   "outputs": [],
   "source": [
    "from transformers import AutoTokenizer, AutoModelForSequenceClassification, DataCollatorWithPadding, TrainingArguments, Trainer\n",
    "import torch\n",
    "import datasets\n",
    "import evaluate\n",
    "import pandas as pd\n",
    "import numpy as np\n",
    "import accelerate\n",
    "\n",
    "\n",
    "train_dataset = pd.read_csv('./datasets/train_ptbr.csv')\n",
    "validation_dataset = pd.read_csv('./datasets/test_ptbr.csv')\n",
    "train_dataset.drop(columns=['id'], inplace=True)\n",
    "validation_dataset.drop(columns=['id'], inplace=True)\n",
    "\n",
    "classes = train_dataset.columns[1:].tolist()\n",
    "class2id = {cls: i for i, cls in enumerate(classes)}\n",
    "id2class = {i: cls for cls, i in class2id.items()}\n",
    "\n",
    "def create_labels(row):\n",
    "    return row[classes].astype(float).tolist()\n",
    "\n",
    "train_dataset['labels'] = train_dataset.apply(create_labels, axis=1)\n",
    "validation_dataset['labels'] = validation_dataset.apply(create_labels, axis=1)"
   ]
  },
  {
   "cell_type": "code",
   "execution_count": 79,
   "id": "244d0e4a",
   "metadata": {},
   "outputs": [
    {
     "name": "stdout",
     "output_type": "stream",
     "text": [
      "Fri Jul 11 03:27:59 2025       \n",
      "+-----------------------------------------------------------------------------------------+\n",
      "| NVIDIA-SMI 576.57                 Driver Version: 576.57         CUDA Version: 12.9     |\n",
      "|-----------------------------------------+------------------------+----------------------+\n",
      "| GPU  Name                  Driver-Model | Bus-Id          Disp.A | Volatile Uncorr. ECC |\n",
      "| Fan  Temp   Perf          Pwr:Usage/Cap |           Memory-Usage | GPU-Util  Compute M. |\n",
      "|                                         |                        |               MIG M. |\n",
      "|=========================================+========================+======================|\n",
      "|   0  NVIDIA GeForce GTX 1070      WDDM  |   00000000:01:00.0  On |                  N/A |\n",
      "|  0%   49C    P0             33W /  180W |    4428MiB /   8192MiB |      5%      Default |\n",
      "|                                         |                        |                  N/A |\n",
      "+-----------------------------------------+------------------------+----------------------+\n",
      "                                                                                         \n",
      "+-----------------------------------------------------------------------------------------+\n",
      "| Processes:                                                                              |\n",
      "|  GPU   GI   CI              PID   Type   Process name                        GPU Memory |\n",
      "|        ID   ID                                                               Usage      |\n",
      "|=========================================================================================|\n",
      "|    0   N/A  N/A            3868    C+G   ...cord\\app-1.0.9199\\Discord.exe      N/A      |\n",
      "|    0   N/A  N/A            4564    C+G   ....0.3296.93\\msedgewebview2.exe      N/A      |\n",
      "|    0   N/A  N/A            4660    C+G   ...Chrome\\Application\\chrome.exe      N/A      |\n",
      "|    0   N/A  N/A            5524    C+G   ..._cw5n1h2txyewy\\SearchHost.exe      N/A      |\n",
      "|    0   N/A  N/A           10028    C+G   ...y\\StartMenuExperienceHost.exe      N/A      |\n",
      "|    0   N/A  N/A           10640    C+G   C:\\Windows\\explorer.exe               N/A      |\n",
      "|    0   N/A  N/A           11472    C+G   ...App_cw5n1h2txyewy\\LockApp.exe      N/A      |\n",
      "|    0   N/A  N/A           11736    C+G   ...xyewy\\ShellExperienceHost.exe      N/A      |\n",
      "|    0   N/A  N/A           16116    C+G   ...5n1h2txyewy\\TextInputHost.exe      N/A      |\n",
      "|    0   N/A  N/A           17716    C+G   ...Chrome\\Application\\chrome.exe      N/A      |\n",
      "|    0   N/A  N/A           19692    C+G   ...ms\\Microsoft VS Code\\Code.exe      N/A      |\n",
      "|    0   N/A  N/A           21604      C   ...s\\Python\\Python313\\python.exe      N/A      |\n",
      "|    0   N/A  N/A           26776    C+G   ...indows\\System32\\ShellHost.exe      N/A      |\n",
      "|    0   N/A  N/A           32044    C+G   ....0.3296.93\\msedgewebview2.exe      N/A      |\n",
      "|    0   N/A  N/A           33388    C+G   ...ef.win7x64\\steamwebhelper.exe      N/A      |\n",
      "|    0   N/A  N/A           38180    C+G   ...em32\\ApplicationFrameHost.exe      N/A      |\n",
      "|    0   N/A  N/A           43548    C+G   ...t\\Edge\\Application\\msedge.exe      N/A      |\n",
      "+-----------------------------------------------------------------------------------------+\n",
      "GPU available: True\n"
     ]
    }
   ],
   "source": [
    "!nvidia-smi\n",
    "print(\"GPU available:\", torch.cuda.is_available())"
   ]
  },
  {
   "cell_type": "code",
   "execution_count": 80,
   "id": "b958cc5f",
   "metadata": {},
   "outputs": [
    {
     "name": "stderr",
     "output_type": "stream",
     "text": [
      "Map: 100%|██████████| 2226/2226 [00:00<00:00, 5885.62 examples/s]\n",
      "Map: 100%|██████████| 2226/2226 [00:00<00:00, 6084.56 examples/s]\n"
     ]
    }
   ],
   "source": [
    "model_name = \"neuralmind/bert-base-portuguese-cased\" # google-bert/bert-base-multilingual-cased # distilbert/distilbert-base-multilingual-cased\n",
    "\n",
    "tokenizer = AutoTokenizer.from_pretrained(model_name)\n",
    "\n",
    "def preprocess_function(example):\n",
    "    return tokenizer(example['text'], truncation=True, padding='max_length', max_length=128)\n",
    "\n",
    "train_dataset = datasets.Dataset.from_pandas(train_dataset)\n",
    "validation_dataset = datasets.Dataset.from_pandas(validation_dataset)\n",
    "\n",
    "train_tokenized_dataset = train_dataset.map(preprocess_function)\n",
    "validation_tokenized_dataset = validation_dataset.map(preprocess_function)\n",
    "\n",
    "data_collator = DataCollatorWithPadding(tokenizer=tokenizer)"
   ]
  },
  {
   "cell_type": "code",
   "execution_count": 81,
   "id": "44b69db0",
   "metadata": {},
   "outputs": [],
   "source": [
    "clf_metrics = evaluate.combine([\"accuracy\", \"f1\", \"precision\", \"recall\"])\n",
    "\n",
    "def sigmoid(x):\n",
    "    return 1 / (1 + np.exp(-x))\n",
    "\n",
    "def compute_metrics(eval_pred):\n",
    "    predictions, labels = eval_pred\n",
    "    predictions = sigmoid(predictions)\n",
    "    predictions = (predictions > 0.5).astype(int).reshape(-1)\n",
    "    return clf_metrics.compute(predictions=predictions, references=labels.astype(int).reshape(-1))"
   ]
  },
  {
   "cell_type": "code",
   "execution_count": 82,
   "id": "db588447",
   "metadata": {},
   "outputs": [
    {
     "name": "stderr",
     "output_type": "stream",
     "text": [
      "Some weights of BertForSequenceClassification were not initialized from the model checkpoint at neuralmind/bert-base-portuguese-cased and are newly initialized: ['classifier.bias', 'classifier.weight']\n",
      "You should probably TRAIN this model on a down-stream task to be able to use it for predictions and inference.\n"
     ]
    }
   ],
   "source": [
    "model = AutoModelForSequenceClassification.from_pretrained(\n",
    "    model_name,\n",
    "    num_labels=len(classes),\n",
    "    id2label=id2class,\n",
    "    label2id=class2id,\n",
    "    problem_type=\"multi_label_classification\"\n",
    ")"
   ]
  },
  {
   "cell_type": "code",
   "execution_count": 83,
   "id": "b869fd28",
   "metadata": {},
   "outputs": [],
   "source": [
    "label_matrix = np.stack(train_dataset['labels'])\n",
    "class_counts = label_matrix.sum(axis=0)\n",
    "class_weights = (label_matrix.shape[0] - class_counts) / class_counts\n",
    "class_weights = torch.tensor(class_weights, dtype=torch.float32)\n",
    "\n",
    "def custom_compute_loss(outputs, labels, num_items_in_batch=None):\n",
    "    logits = outputs.logits\n",
    "    loss_fct = torch.nn.BCEWithLogitsLoss(pos_weight=class_weights.to(logits.device))\n",
    "    loss = loss_fct(logits, labels.float())\n",
    "    return loss"
   ]
  },
  {
   "cell_type": "code",
   "execution_count": 89,
   "id": "b9fc22ab",
   "metadata": {},
   "outputs": [
    {
     "name": "stderr",
     "output_type": "stream",
     "text": [
      "C:\\Users\\mfppe\\AppData\\Local\\Temp\\ipykernel_21604\\2407878682.py:14: FutureWarning: `tokenizer` is deprecated and will be removed in version 5.0.0 for `Trainer.__init__`. Use `processing_class` instead.\n",
      "  trainer = Trainer(\n"
     ]
    },
    {
     "data": {
      "text/html": [
       "\n",
       "    <div>\n",
       "      \n",
       "      <progress value='1484' max='1484' style='width:300px; height:20px; vertical-align: middle;'></progress>\n",
       "      [1484/1484 03:46, Epoch 2/2]\n",
       "    </div>\n",
       "    <table border=\"1\" class=\"dataframe\">\n",
       "  <thead>\n",
       " <tr style=\"text-align: left;\">\n",
       "      <th>Epoch</th>\n",
       "      <th>Training Loss</th>\n",
       "      <th>Validation Loss</th>\n",
       "      <th>Accuracy</th>\n",
       "      <th>F1</th>\n",
       "      <th>Precision</th>\n",
       "      <th>Recall</th>\n",
       "    </tr>\n",
       "  </thead>\n",
       "  <tbody>\n",
       "    <tr>\n",
       "      <td>1</td>\n",
       "      <td>0.378900</td>\n",
       "      <td>1.613834</td>\n",
       "      <td>0.885744</td>\n",
       "      <td>0.620020</td>\n",
       "      <td>0.606725</td>\n",
       "      <td>0.633910</td>\n",
       "    </tr>\n",
       "    <tr>\n",
       "      <td>2</td>\n",
       "      <td>0.371800</td>\n",
       "      <td>1.820592</td>\n",
       "      <td>0.894804</td>\n",
       "      <td>0.636481</td>\n",
       "      <td>0.647028</td>\n",
       "      <td>0.626273</td>\n",
       "    </tr>\n",
       "  </tbody>\n",
       "</table><p>"
      ],
      "text/plain": [
       "<IPython.core.display.HTML object>"
      ]
     },
     "metadata": {},
     "output_type": "display_data"
    },
    {
     "data": {
      "text/plain": [
       "TrainOutput(global_step=1484, training_loss=0.3682096743519415, metrics={'train_runtime': 226.3612, 'train_samples_per_second': 19.668, 'train_steps_per_second': 6.556, 'total_flos': 292853121878016.0, 'train_loss': 0.3682096743519415, 'epoch': 2.0})"
      ]
     },
     "execution_count": 89,
     "metadata": {},
     "output_type": "execute_result"
    }
   ],
   "source": [
    "training_args = TrainingArguments(\n",
    "    \n",
    "   output_dir=\"multilabel_emotion\",\n",
    "   learning_rate=2e-5,\n",
    "   per_device_train_batch_size=3,\n",
    "   per_device_eval_batch_size=3,\n",
    "   num_train_epochs=2,\n",
    "   weight_decay=0.01,\n",
    "   eval_strategy=\"epoch\",\n",
    "   save_strategy=\"epoch\",\n",
    "   load_best_model_at_end=True\n",
    ")\n",
    "\n",
    "trainer = Trainer(\n",
    "\n",
    "   model=model,\n",
    "   args=training_args,\n",
    "   train_dataset=train_tokenized_dataset,\n",
    "   eval_dataset=validation_tokenized_dataset,\n",
    "   tokenizer=tokenizer,\n",
    "   data_collator=data_collator,\n",
    "   compute_metrics=compute_metrics,\n",
    "   compute_loss_func=custom_compute_loss,\n",
    ")\n",
    "\n",
    "trainer.train()"
   ]
  },
  {
   "cell_type": "code",
   "execution_count": 90,
   "id": "b13df243",
   "metadata": {},
   "outputs": [
    {
     "name": "stdout",
     "output_type": "stream",
     "text": [
      "Texto: como paulista vi essa vergonha e fiquei chocada\n",
      "\n",
      "Labels predicted: ['fear', 'sadness', 'surprise']\n",
      "\n",
      "Labels e suas respectivas probabilidades (desc):\n",
      "- surprise: 0.9766\n",
      "- fear: 0.8398\n",
      "- sadness: 0.6884\n",
      "- joy: 0.1979\n",
      "- anger: 0.1459\n",
      "- disgust: 0.0894\n"
     ]
    }
   ],
   "source": [
    "text = \"como paulista vi essa vergonha e fiquei chocada\"\n",
    "\n",
    "encoding = tokenizer(text, truncation=True, padding='max_length', max_length=128, return_tensors='pt')\n",
    "encoding.to(trainer.model.device)\n",
    "\n",
    "outputs = trainer.model(**encoding)\n",
    "\n",
    "predictions = outputs.logits.detach().cpu().numpy()\n",
    "predictions = sigmoid(predictions)\n",
    "filtered_predictions = (predictions > 0.5).astype(int).reshape(-1)\n",
    "\n",
    "predicted_labels = [id2class[i] for i, pred in enumerate(filtered_predictions) if pred == 1]\n",
    "print(f\"Texto: {text}\\n\")\n",
    "print(f\"Labels predicted: {predicted_labels}\\n\")\n",
    "\n",
    "\n",
    "predictions = predictions[0]\n",
    "sorted_indices = np.argsort(predictions)[::-1]\n",
    "print(\"Labels e suas respectivas probabilidades (desc):\")\n",
    "for idx in sorted_indices:\n",
    "    print(f\"- {id2class[idx]}: {predictions[idx]:.4f}\")"
   ]
  }
 ],
 "metadata": {
  "kernelspec": {
   "display_name": "Python 3",
   "language": "python",
   "name": "python3"
  },
  "language_info": {
   "codemirror_mode": {
    "name": "ipython",
    "version": 3
   },
   "file_extension": ".py",
   "mimetype": "text/x-python",
   "name": "python",
   "nbconvert_exporter": "python",
   "pygments_lexer": "ipython3",
   "version": "3.13.1"
  }
 },
 "nbformat": 4,
 "nbformat_minor": 5
}
