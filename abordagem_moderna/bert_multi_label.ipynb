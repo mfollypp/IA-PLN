{
 "cells": [
  {
   "cell_type": "code",
   "execution_count": 72,
   "id": "5b30bd8a",
   "metadata": {},
   "outputs": [],
   "source": [
    "from transformers import AutoTokenizer, AutoModelForSequenceClassification, DataCollatorWithPadding, TrainingArguments, Trainer\n",
    "import torch\n",
    "import datasets\n",
    "import evaluate\n",
    "import pandas as pd\n",
    "import numpy as np\n",
    "import accelerate\n",
    "\n",
    "\n",
    "train_dataset = pd.read_csv('train_ptbr.csv')\n",
    "validation_dataset = pd.read_csv('test_ptbr.csv')\n",
    "train_dataset.drop(columns=['id'], inplace=True)\n",
    "validation_dataset.drop(columns=['id'], inplace=True)\n",
    "\n",
    "classes = train_dataset.columns[1:].tolist()\n",
    "class2id = {cls: i for i, cls in enumerate(classes)}\n",
    "id2class = {i: cls for cls, i in class2id.items()}\n",
    "\n",
    "def create_labels(row):\n",
    "    return row[classes].astype(float).tolist()\n",
    "\n",
    "train_dataset['labels'] = train_dataset.apply(create_labels, axis=1)\n",
    "validation_dataset['labels'] = validation_dataset.apply(create_labels, axis=1)"
   ]
  },
  {
   "cell_type": "code",
   "execution_count": 73,
   "id": "244d0e4a",
   "metadata": {},
   "outputs": [
    {
     "name": "stdout",
     "output_type": "stream",
     "text": [
      "Thu Jul 10 03:13:00 2025       \n",
      "+-----------------------------------------------------------------------------------------+\n",
      "| NVIDIA-SMI 576.57                 Driver Version: 576.57         CUDA Version: 12.9     |\n",
      "|-----------------------------------------+------------------------+----------------------+\n",
      "| GPU  Name                  Driver-Model | Bus-Id          Disp.A | Volatile Uncorr. ECC |\n",
      "| Fan  Temp   Perf          Pwr:Usage/Cap |           Memory-Usage | GPU-Util  Compute M. |\n",
      "|                                         |                        |               MIG M. |\n",
      "|=========================================+========================+======================|\n",
      "|   0  NVIDIA GeForce GTX 1070      WDDM  |   00000000:01:00.0  On |                  N/A |\n",
      "|  0%   49C    P0             34W /  180W |    3681MiB /   8192MiB |      7%      Default |\n",
      "|                                         |                        |                  N/A |\n",
      "+-----------------------------------------+------------------------+----------------------+\n",
      "                                                                                         \n",
      "+-----------------------------------------------------------------------------------------+\n",
      "| Processes:                                                                              |\n",
      "|  GPU   GI   CI              PID   Type   Process name                        GPU Memory |\n",
      "|        ID   ID                                                               Usage      |\n",
      "|=========================================================================================|\n",
      "|    0   N/A  N/A            4660    C+G   ...Chrome\\Application\\chrome.exe      N/A      |\n",
      "|    0   N/A  N/A            5524    C+G   ..._cw5n1h2txyewy\\SearchHost.exe      N/A      |\n",
      "|    0   N/A  N/A           10028    C+G   ...y\\StartMenuExperienceHost.exe      N/A      |\n",
      "|    0   N/A  N/A           10640    C+G   C:\\Windows\\explorer.exe               N/A      |\n",
      "|    0   N/A  N/A           11736    C+G   ...xyewy\\ShellExperienceHost.exe      N/A      |\n",
      "|    0   N/A  N/A           16116    C+G   ...5n1h2txyewy\\TextInputHost.exe      N/A      |\n",
      "|    0   N/A  N/A           19692    C+G   ...ms\\Microsoft VS Code\\Code.exe      N/A      |\n",
      "|    0   N/A  N/A           26776    C+G   ...indows\\System32\\ShellHost.exe      N/A      |\n",
      "|    0   N/A  N/A           32044    C+G   ....0.3296.93\\msedgewebview2.exe      N/A      |\n",
      "|    0   N/A  N/A           36812      C   ...s\\Python\\Python313\\python.exe      N/A      |\n",
      "+-----------------------------------------------------------------------------------------+\n",
      "GPU available: True\n"
     ]
    }
   ],
   "source": [
    "!nvidia-smi\n",
    "print(\"GPU available:\", torch.cuda.is_available())"
   ]
  },
  {
   "cell_type": "code",
   "execution_count": 74,
   "id": "b958cc5f",
   "metadata": {},
   "outputs": [
    {
     "name": "stderr",
     "output_type": "stream",
     "text": [
      "Map: 100%|██████████| 2226/2226 [00:00<00:00, 5705.85 examples/s]\n",
      "Map: 100%|██████████| 2226/2226 [00:00<00:00, 5555.66 examples/s]\n"
     ]
    }
   ],
   "source": [
    "model_name = \"neuralmind/bert-base-portuguese-cased\" # google-bert/bert-base-multilingual-cased # distilbert/distilbert-base-multilingual-cased\n",
    "\n",
    "tokenizer = AutoTokenizer.from_pretrained(model_name)\n",
    "\n",
    "def preprocess_function(example):\n",
    "    return tokenizer(example['text'], truncation=True, padding='max_length', max_length=128)\n",
    "\n",
    "train_dataset = datasets.Dataset.from_pandas(train_dataset)\n",
    "validation_dataset = datasets.Dataset.from_pandas(validation_dataset)\n",
    "\n",
    "train_tokenized_dataset = train_dataset.map(preprocess_function)\n",
    "validation_tokenized_dataset = validation_dataset.map(preprocess_function)\n",
    "\n",
    "data_collator = DataCollatorWithPadding(tokenizer=tokenizer)"
   ]
  },
  {
   "cell_type": "code",
   "execution_count": 75,
   "id": "44b69db0",
   "metadata": {},
   "outputs": [],
   "source": [
    "clf_metrics = evaluate.combine([\"accuracy\", \"f1\", \"precision\", \"recall\"])\n",
    "\n",
    "def sigmoid(x):\n",
    "    return 1 / (1 + np.exp(-x))\n",
    "\n",
    "def compute_metrics(eval_pred):\n",
    "    predictions, labels = eval_pred\n",
    "    predictions = sigmoid(predictions)\n",
    "    predictions = (predictions > 0.5).astype(int).reshape(-1)\n",
    "    return clf_metrics.compute(predictions=predictions, references=labels.astype(int).reshape(-1))"
   ]
  },
  {
   "cell_type": "code",
   "execution_count": 76,
   "id": "db588447",
   "metadata": {},
   "outputs": [
    {
     "name": "stderr",
     "output_type": "stream",
     "text": [
      "Some weights of BertForSequenceClassification were not initialized from the model checkpoint at neuralmind/bert-base-portuguese-cased and are newly initialized: ['classifier.bias', 'classifier.weight']\n",
      "You should probably TRAIN this model on a down-stream task to be able to use it for predictions and inference.\n"
     ]
    }
   ],
   "source": [
    "model = AutoModelForSequenceClassification.from_pretrained(\n",
    "    model_name,\n",
    "    num_labels=len(classes),\n",
    "    id2label=id2class,\n",
    "    label2id=class2id,\n",
    "    problem_type=\"multi_label_classification\"\n",
    ")"
   ]
  },
  {
   "cell_type": "code",
   "execution_count": 77,
   "id": "b869fd28",
   "metadata": {},
   "outputs": [],
   "source": [
    "label_matrix = np.stack(train_dataset['labels'])\n",
    "class_counts = label_matrix.sum(axis=0)\n",
    "class_weights = (label_matrix.shape[0] - class_counts) / class_counts\n",
    "class_weights = torch.tensor(class_weights, dtype=torch.float32)\n",
    "\n",
    "def custom_compute_loss(outputs, labels, num_items_in_batch=None):\n",
    "    logits = outputs.logits\n",
    "    loss_fct = torch.nn.BCEWithLogitsLoss(pos_weight=class_weights.to(logits.device))\n",
    "    loss = loss_fct(logits, labels.float())\n",
    "    return loss"
   ]
  },
  {
   "cell_type": "code",
   "execution_count": 78,
   "id": "b9fc22ab",
   "metadata": {},
   "outputs": [
    {
     "name": "stderr",
     "output_type": "stream",
     "text": [
      "C:\\Users\\mfppe\\AppData\\Local\\Temp\\ipykernel_36812\\3458486868.py:14: FutureWarning: `tokenizer` is deprecated and will be removed in version 5.0.0 for `Trainer.__init__`. Use `processing_class` instead.\n",
      "  trainer = Trainer(\n"
     ]
    },
    {
     "data": {
      "text/html": [
       "\n",
       "    <div>\n",
       "      \n",
       "      <progress value='1484' max='1484' style='width:300px; height:20px; vertical-align: middle;'></progress>\n",
       "      [1484/1484 03:53, Epoch 2/2]\n",
       "    </div>\n",
       "    <table border=\"1\" class=\"dataframe\">\n",
       "  <thead>\n",
       " <tr style=\"text-align: left;\">\n",
       "      <th>Epoch</th>\n",
       "      <th>Training Loss</th>\n",
       "      <th>Validation Loss</th>\n",
       "      <th>Accuracy</th>\n",
       "      <th>F1</th>\n",
       "      <th>Precision</th>\n",
       "      <th>Recall</th>\n",
       "    </tr>\n",
       "  </thead>\n",
       "  <tbody>\n",
       "    <tr>\n",
       "      <td>1</td>\n",
       "      <td>1.218400</td>\n",
       "      <td>1.051377</td>\n",
       "      <td>0.874513</td>\n",
       "      <td>0.598851</td>\n",
       "      <td>0.565041</td>\n",
       "      <td>0.636965</td>\n",
       "    </tr>\n",
       "    <tr>\n",
       "      <td>2</td>\n",
       "      <td>0.997400</td>\n",
       "      <td>1.040492</td>\n",
       "      <td>0.870246</td>\n",
       "      <td>0.609245</td>\n",
       "      <td>0.546742</td>\n",
       "      <td>0.687882</td>\n",
       "    </tr>\n",
       "  </tbody>\n",
       "</table><p>"
      ],
      "text/plain": [
       "<IPython.core.display.HTML object>"
      ]
     },
     "metadata": {},
     "output_type": "display_data"
    },
    {
     "data": {
      "text/plain": [
       "TrainOutput(global_step=1484, training_loss=1.0244938318298833, metrics={'train_runtime': 233.775, 'train_samples_per_second': 19.044, 'train_steps_per_second': 6.348, 'total_flos': 292853121878016.0, 'train_loss': 1.0244938318298833, 'epoch': 2.0})"
      ]
     },
     "execution_count": 78,
     "metadata": {},
     "output_type": "execute_result"
    }
   ],
   "source": [
    "training_args = TrainingArguments(\n",
    "    \n",
    "   output_dir=\"multilabel_emotion\",\n",
    "   learning_rate=2e-5,\n",
    "   per_device_train_batch_size=3,\n",
    "   per_device_eval_batch_size=3,\n",
    "   num_train_epochs=2,\n",
    "   weight_decay=0.01,\n",
    "   eval_strategy=\"epoch\",\n",
    "   save_strategy=\"epoch\",\n",
    "   load_best_model_at_end=True,\n",
    ")\n",
    "\n",
    "trainer = Trainer(\n",
    "\n",
    "   model=model,\n",
    "   args=training_args,\n",
    "   train_dataset=train_tokenized_dataset,\n",
    "   eval_dataset=validation_tokenized_dataset,\n",
    "   tokenizer=tokenizer,\n",
    "   data_collator=data_collator,\n",
    "   compute_metrics=compute_metrics,\n",
    "   compute_loss_func=custom_compute_loss,\n",
    ")\n",
    "\n",
    "trainer.train()"
   ]
  },
  {
   "cell_type": "code",
   "execution_count": 80,
   "id": "b13df243",
   "metadata": {},
   "outputs": [
    {
     "name": "stdout",
     "output_type": "stream",
     "text": [
      "Texto: to com tanta dor na gengiva que ta me dando dor de cabeça pqp\n",
      "\n",
      "Labels previstos: ['fear', 'sadness']\n",
      "\n",
      "Labels e suas respectivas probabilidades (desc):\n",
      "- sadness: 0.9468\n",
      "- fear: 0.6491\n",
      "- anger: 0.4898\n",
      "- surprise: 0.3998\n",
      "- disgust: 0.3391\n",
      "- joy: 0.0872\n"
     ]
    }
   ],
   "source": [
    "text = \"to com tanta dor na gengiva que ta me dando dor de cabeça pqp\"\n",
    "\n",
    "encoding = tokenizer(text, truncation=True, padding='max_length', max_length=128, return_tensors='pt')\n",
    "encoding.to(trainer.model.device)\n",
    "\n",
    "outputs = trainer.model(**encoding)\n",
    "\n",
    "predictions = outputs.logits.detach().cpu().numpy()\n",
    "predictions = sigmoid(predictions)\n",
    "filtered_predictions = (predictions > 0.5).astype(int).reshape(-1)\n",
    "\n",
    "predicted_labels = [id2class[i] for i, pred in enumerate(filtered_predictions) if pred == 1]\n",
    "print(f\"Texto: {text}\\n\")\n",
    "print(f\"Labels previstos: {predicted_labels}\\n\")\n",
    "\n",
    "\n",
    "predictions = predictions[0]\n",
    "sorted_indices = np.argsort(predictions)[::-1]\n",
    "print(\"Labels e suas respectivas probabilidades (desc):\")\n",
    "for idx in sorted_indices:\n",
    "    print(f\"- {id2class[idx]}: {predictions[idx]:.4f}\")"
   ]
  }
 ],
 "metadata": {
  "kernelspec": {
   "display_name": "Python 3",
   "language": "python",
   "name": "python3"
  },
  "language_info": {
   "codemirror_mode": {
    "name": "ipython",
    "version": 3
   },
   "file_extension": ".py",
   "mimetype": "text/x-python",
   "name": "python",
   "nbconvert_exporter": "python",
   "pygments_lexer": "ipython3",
   "version": "3.13.1"
  }
 },
 "nbformat": 4,
 "nbformat_minor": 5
}
