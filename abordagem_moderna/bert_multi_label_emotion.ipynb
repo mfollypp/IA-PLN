{
 "cells": [
  {
   "cell_type": "code",
   "execution_count": 82,
   "id": "255a16f2",
   "metadata": {},
   "outputs": [],
   "source": [
    "import numpy as np\n",
    "import pandas as pd\n",
    "import torch\n",
    "import torch.nn as nn\n",
    "import sys\n",
    "import shutil\n",
    "\n",
    "df_train = pd.read_csv('train_ptbr.csv')\n",
    "df_test = pd.read_csv('test_ptbr.csv')"
   ]
  },
  {
   "cell_type": "code",
   "execution_count": 83,
   "id": "75295440",
   "metadata": {},
   "outputs": [
    {
     "data": {
      "application/vnd.microsoft.datawrangler.viewer.v0+json": {
       "columns": [
        {
         "name": "index",
         "rawType": "int64",
         "type": "integer"
        },
        {
         "name": "id",
         "rawType": "object",
         "type": "string"
        },
        {
         "name": "text",
         "rawType": "object",
         "type": "string"
        },
        {
         "name": "anger",
         "rawType": "int64",
         "type": "integer"
        },
        {
         "name": "disgust",
         "rawType": "int64",
         "type": "integer"
        },
        {
         "name": "fear",
         "rawType": "int64",
         "type": "integer"
        },
        {
         "name": "joy",
         "rawType": "int64",
         "type": "integer"
        },
        {
         "name": "sadness",
         "rawType": "int64",
         "type": "integer"
        },
        {
         "name": "surprise",
         "rawType": "int64",
         "type": "integer"
        }
       ],
       "ref": "c721609e-5b60-46e0-9f42-02c935c50a24",
       "rows": [
        [
         "0",
         "ptbr_train_track_a_00001",
         "Moça eu fiz uma análise com o Tinder uma vez e TB sou programador. Perdi uma mês analisando toda a dinâmica disso e posso te responder isso só não posso falar o que fiz aqui por que posso ser linchado, não sou maluco nem nada ok. Mas no geral não funciona pq tem um desvio de comportamento nesses apps, se quiser detalhes chama no privado que explico melhor.",
         "0",
         "0",
         "0",
         "0",
         "0",
         "0"
        ],
        [
         "1",
         "ptbr_train_track_a_00002",
         "eles sempre mostram a míseria, em como tudo era um nojo. a comparação deles de um esgoto e o século passado é a mesma.",
         "1",
         "1",
         "0",
         "0",
         "0",
         "0"
        ],
        [
         "2",
         "ptbr_train_track_a_00003",
         "eu nunca quis tanto algo como quero você. jamais passou pela minha cabeça necessitar qualquer coisa, como necessito seus beijos. percebe o que fez comigo? me tornei tudo que eu imaginava que nunca seria.  você me virou do avesso e me fez perceber que esse é o meu lado certo.",
         "0",
         "0",
         "0",
         "1",
         "1",
         "0"
        ],
        [
         "3",
         "ptbr_train_track_a_00004",
         "esperando aqui o stf vim me emparedar do eu expressar o direito de liberdade!",
         "1",
         "0",
         "0",
         "0",
         "0",
         "0"
        ],
        [
         "4",
         "ptbr_train_track_a_00005",
         "e no final o PS vai pagar o pato, ja é o 4° treinador depois do JJ, mas a torcida ainda não percebe isso.",
         "1",
         "0",
         "0",
         "0",
         "0",
         "0"
        ]
       ],
       "shape": {
        "columns": 8,
        "rows": 5
       }
      },
      "text/html": [
       "<div>\n",
       "<style scoped>\n",
       "    .dataframe tbody tr th:only-of-type {\n",
       "        vertical-align: middle;\n",
       "    }\n",
       "\n",
       "    .dataframe tbody tr th {\n",
       "        vertical-align: top;\n",
       "    }\n",
       "\n",
       "    .dataframe thead th {\n",
       "        text-align: right;\n",
       "    }\n",
       "</style>\n",
       "<table border=\"1\" class=\"dataframe\">\n",
       "  <thead>\n",
       "    <tr style=\"text-align: right;\">\n",
       "      <th></th>\n",
       "      <th>id</th>\n",
       "      <th>text</th>\n",
       "      <th>anger</th>\n",
       "      <th>disgust</th>\n",
       "      <th>fear</th>\n",
       "      <th>joy</th>\n",
       "      <th>sadness</th>\n",
       "      <th>surprise</th>\n",
       "    </tr>\n",
       "  </thead>\n",
       "  <tbody>\n",
       "    <tr>\n",
       "      <th>0</th>\n",
       "      <td>ptbr_train_track_a_00001</td>\n",
       "      <td>Moça eu fiz uma análise com o Tinder uma vez e...</td>\n",
       "      <td>0</td>\n",
       "      <td>0</td>\n",
       "      <td>0</td>\n",
       "      <td>0</td>\n",
       "      <td>0</td>\n",
       "      <td>0</td>\n",
       "    </tr>\n",
       "    <tr>\n",
       "      <th>1</th>\n",
       "      <td>ptbr_train_track_a_00002</td>\n",
       "      <td>eles sempre mostram a míseria, em como tudo er...</td>\n",
       "      <td>1</td>\n",
       "      <td>1</td>\n",
       "      <td>0</td>\n",
       "      <td>0</td>\n",
       "      <td>0</td>\n",
       "      <td>0</td>\n",
       "    </tr>\n",
       "    <tr>\n",
       "      <th>2</th>\n",
       "      <td>ptbr_train_track_a_00003</td>\n",
       "      <td>eu nunca quis tanto algo como quero você. jama...</td>\n",
       "      <td>0</td>\n",
       "      <td>0</td>\n",
       "      <td>0</td>\n",
       "      <td>1</td>\n",
       "      <td>1</td>\n",
       "      <td>0</td>\n",
       "    </tr>\n",
       "    <tr>\n",
       "      <th>3</th>\n",
       "      <td>ptbr_train_track_a_00004</td>\n",
       "      <td>esperando aqui o stf vim me emparedar do eu ex...</td>\n",
       "      <td>1</td>\n",
       "      <td>0</td>\n",
       "      <td>0</td>\n",
       "      <td>0</td>\n",
       "      <td>0</td>\n",
       "      <td>0</td>\n",
       "    </tr>\n",
       "    <tr>\n",
       "      <th>4</th>\n",
       "      <td>ptbr_train_track_a_00005</td>\n",
       "      <td>e no final o PS vai pagar o pato, ja é o 4° tr...</td>\n",
       "      <td>1</td>\n",
       "      <td>0</td>\n",
       "      <td>0</td>\n",
       "      <td>0</td>\n",
       "      <td>0</td>\n",
       "      <td>0</td>\n",
       "    </tr>\n",
       "  </tbody>\n",
       "</table>\n",
       "</div>"
      ],
      "text/plain": [
       "                         id  \\\n",
       "0  ptbr_train_track_a_00001   \n",
       "1  ptbr_train_track_a_00002   \n",
       "2  ptbr_train_track_a_00003   \n",
       "3  ptbr_train_track_a_00004   \n",
       "4  ptbr_train_track_a_00005   \n",
       "\n",
       "                                                text  anger  disgust  fear  \\\n",
       "0  Moça eu fiz uma análise com o Tinder uma vez e...      0        0     0   \n",
       "1  eles sempre mostram a míseria, em como tudo er...      1        1     0   \n",
       "2  eu nunca quis tanto algo como quero você. jama...      0        0     0   \n",
       "3  esperando aqui o stf vim me emparedar do eu ex...      1        0     0   \n",
       "4  e no final o PS vai pagar o pato, ja é o 4° tr...      1        0     0   \n",
       "\n",
       "   joy  sadness  surprise  \n",
       "0    0        0         0  \n",
       "1    0        0         0  \n",
       "2    1        1         0  \n",
       "3    0        0         0  \n",
       "4    0        0         0  "
      ]
     },
     "execution_count": 83,
     "metadata": {},
     "output_type": "execute_result"
    }
   ],
   "source": [
    "df_train.head()"
   ]
  },
  {
   "cell_type": "code",
   "execution_count": 84,
   "id": "0743e0ca",
   "metadata": {},
   "outputs": [
    {
     "data": {
      "text/plain": [
       "Index(['id', 'text', 'anger', 'disgust', 'fear', 'joy', 'sadness', 'surprise'], dtype='object')"
      ]
     },
     "execution_count": 84,
     "metadata": {},
     "output_type": "execute_result"
    }
   ],
   "source": [
    "df_train.columns"
   ]
  },
  {
   "cell_type": "code",
   "execution_count": 85,
   "id": "8b705fb9",
   "metadata": {},
   "outputs": [
    {
     "data": {
      "application/vnd.microsoft.datawrangler.viewer.v0+json": {
       "columns": [
        {
         "name": "index",
         "rawType": "int64",
         "type": "integer"
        },
        {
         "name": "id",
         "rawType": "object",
         "type": "string"
        },
        {
         "name": "text",
         "rawType": "object",
         "type": "string"
        },
        {
         "name": "anger",
         "rawType": "int64",
         "type": "integer"
        },
        {
         "name": "disgust",
         "rawType": "int64",
         "type": "integer"
        },
        {
         "name": "fear",
         "rawType": "int64",
         "type": "integer"
        },
        {
         "name": "joy",
         "rawType": "int64",
         "type": "integer"
        },
        {
         "name": "sadness",
         "rawType": "int64",
         "type": "integer"
        },
        {
         "name": "surprise",
         "rawType": "int64",
         "type": "integer"
        }
       ],
       "ref": "aa1d3499-8fff-4cd2-a160-0fcb2a9c6914",
       "rows": [
        [
         "0",
         "ptbr_test_track_a_00001",
         "me recuso a sair de casa nesse frio do caralho, só quero minha cama",
         "1",
         "0",
         "0",
         "0",
         "0",
         "0"
        ],
        [
         "1",
         "ptbr_test_track_a_00002",
         "tenho desde camisola nova até vestido de festa uhul",
         "0",
         "0",
         "0",
         "1",
         "0",
         "0"
        ],
        [
         "2",
         "ptbr_test_track_a_00003",
         "minha playlist de descobertas veio com trap, rap e quatro kpops masculinos, eu deixei meu amigo usar por um tempinho e a porra da apple ainda não começou a colocar só girlgroup de novo ...",
         "1",
         "0",
         "0",
         "0",
         "0",
         "0"
        ],
        [
         "3",
         "ptbr_test_track_a_00004",
         "Então, acho que ele gosta de homem e nem sabe ainda. Homem com barba.",
         "0",
         "0",
         "0",
         "0",
         "0",
         "0"
        ],
        [
         "4",
         "ptbr_test_track_a_00005",
         "Parabéns, Prof. Fernando. Parabéns às educadoras e aos educadores do Brasil, incansáveis no ofício de ensinar.",
         "0",
         "0",
         "0",
         "1",
         "0",
         "0"
        ]
       ],
       "shape": {
        "columns": 8,
        "rows": 5
       }
      },
      "text/html": [
       "<div>\n",
       "<style scoped>\n",
       "    .dataframe tbody tr th:only-of-type {\n",
       "        vertical-align: middle;\n",
       "    }\n",
       "\n",
       "    .dataframe tbody tr th {\n",
       "        vertical-align: top;\n",
       "    }\n",
       "\n",
       "    .dataframe thead th {\n",
       "        text-align: right;\n",
       "    }\n",
       "</style>\n",
       "<table border=\"1\" class=\"dataframe\">\n",
       "  <thead>\n",
       "    <tr style=\"text-align: right;\">\n",
       "      <th></th>\n",
       "      <th>id</th>\n",
       "      <th>text</th>\n",
       "      <th>anger</th>\n",
       "      <th>disgust</th>\n",
       "      <th>fear</th>\n",
       "      <th>joy</th>\n",
       "      <th>sadness</th>\n",
       "      <th>surprise</th>\n",
       "    </tr>\n",
       "  </thead>\n",
       "  <tbody>\n",
       "    <tr>\n",
       "      <th>0</th>\n",
       "      <td>ptbr_test_track_a_00001</td>\n",
       "      <td>me recuso a sair de casa nesse frio do caralho...</td>\n",
       "      <td>1</td>\n",
       "      <td>0</td>\n",
       "      <td>0</td>\n",
       "      <td>0</td>\n",
       "      <td>0</td>\n",
       "      <td>0</td>\n",
       "    </tr>\n",
       "    <tr>\n",
       "      <th>1</th>\n",
       "      <td>ptbr_test_track_a_00002</td>\n",
       "      <td>tenho desde camisola nova até vestido de festa...</td>\n",
       "      <td>0</td>\n",
       "      <td>0</td>\n",
       "      <td>0</td>\n",
       "      <td>1</td>\n",
       "      <td>0</td>\n",
       "      <td>0</td>\n",
       "    </tr>\n",
       "    <tr>\n",
       "      <th>2</th>\n",
       "      <td>ptbr_test_track_a_00003</td>\n",
       "      <td>minha playlist de descobertas veio com trap, r...</td>\n",
       "      <td>1</td>\n",
       "      <td>0</td>\n",
       "      <td>0</td>\n",
       "      <td>0</td>\n",
       "      <td>0</td>\n",
       "      <td>0</td>\n",
       "    </tr>\n",
       "    <tr>\n",
       "      <th>3</th>\n",
       "      <td>ptbr_test_track_a_00004</td>\n",
       "      <td>Então, acho que ele gosta de homem e nem sabe ...</td>\n",
       "      <td>0</td>\n",
       "      <td>0</td>\n",
       "      <td>0</td>\n",
       "      <td>0</td>\n",
       "      <td>0</td>\n",
       "      <td>0</td>\n",
       "    </tr>\n",
       "    <tr>\n",
       "      <th>4</th>\n",
       "      <td>ptbr_test_track_a_00005</td>\n",
       "      <td>Parabéns, Prof. Fernando. Parabéns às educador...</td>\n",
       "      <td>0</td>\n",
       "      <td>0</td>\n",
       "      <td>0</td>\n",
       "      <td>1</td>\n",
       "      <td>0</td>\n",
       "      <td>0</td>\n",
       "    </tr>\n",
       "  </tbody>\n",
       "</table>\n",
       "</div>"
      ],
      "text/plain": [
       "                        id                                               text  \\\n",
       "0  ptbr_test_track_a_00001  me recuso a sair de casa nesse frio do caralho...   \n",
       "1  ptbr_test_track_a_00002  tenho desde camisola nova até vestido de festa...   \n",
       "2  ptbr_test_track_a_00003  minha playlist de descobertas veio com trap, r...   \n",
       "3  ptbr_test_track_a_00004  Então, acho que ele gosta de homem e nem sabe ...   \n",
       "4  ptbr_test_track_a_00005  Parabéns, Prof. Fernando. Parabéns às educador...   \n",
       "\n",
       "   anger  disgust  fear  joy  sadness  surprise  \n",
       "0      1        0     0    0        0         0  \n",
       "1      0        0     0    1        0         0  \n",
       "2      1        0     0    0        0         0  \n",
       "3      0        0     0    0        0         0  \n",
       "4      0        0     0    1        0         0  "
      ]
     },
     "execution_count": 85,
     "metadata": {},
     "output_type": "execute_result"
    }
   ],
   "source": [
    "df_test.head()"
   ]
  },
  {
   "cell_type": "code",
   "execution_count": 86,
   "id": "4ef0f8f7",
   "metadata": {},
   "outputs": [],
   "source": [
    "df_train.drop(columns=['id'], inplace=True)\n",
    "df_test.drop(columns=['id'], inplace=True)\n",
    "\n",
    "target_list = ['anger', 'disgust', 'fear', 'joy', 'sadness', 'surprise']"
   ]
  },
  {
   "cell_type": "code",
   "execution_count": 87,
   "id": "9e9dd67c",
   "metadata": {},
   "outputs": [],
   "source": [
    "from transformers import BertTokenizer, BertModel\n",
    "\n",
    "tokenizer = BertTokenizer.from_pretrained('bert-base-cased')"
   ]
  },
  {
   "cell_type": "code",
   "execution_count": 88,
   "id": "519ddfb9",
   "metadata": {},
   "outputs": [],
   "source": [
    "class CustomDataset (torch.utils.data.Dataset):\n",
    "    def __init__(self, df, tokenizer, max_length=512):\n",
    "        self.df = df\n",
    "        self.tokenizer = tokenizer\n",
    "        self.max_length = max_length\n",
    "        self.texts = self.df['text']\n",
    "        self.targets = self.df[target_list].values\n",
    "\n",
    "    def __len__(self):\n",
    "        return len(self.df)\n",
    "\n",
    "    def __getitem__(self, idx):\n",
    "        text = str(self.texts[idx])\n",
    "        \n",
    "        inputs = self.tokenizer.encode_plus(\n",
    "            text,\n",
    "            add_special_tokens=True,\n",
    "            max_length=self.max_length,\n",
    "            padding='max_length',\n",
    "            return_token_type_ids=True,\n",
    "            truncation=True,\n",
    "            return_attention_mask=True,\n",
    "            return_tensors='pt'\n",
    "        )\n",
    "\n",
    "        return {\n",
    "            'input_ids': inputs['input_ids'].flatten(),\n",
    "            'attention_mask': inputs['attention_mask'].flatten(),\n",
    "            'token_type_ids': inputs['token_type_ids'].flatten(),\n",
    "            'targets': torch.FloatTensor(self.targets[idx])\n",
    "        }\n"
   ]
  },
  {
   "cell_type": "code",
   "execution_count": 89,
   "id": "d6f40676",
   "metadata": {},
   "outputs": [],
   "source": [
    "# train_size = 0.8\n",
    "# df_train_sample = df_train.sample(frac=train_size, random_state=42).reset_index(drop=True)\n",
    "# df_validation = df_train.drop(df_train_sample.index).reset_index(drop=True)"
   ]
  },
  {
   "cell_type": "code",
   "execution_count": 90,
   "id": "12bb8078",
   "metadata": {},
   "outputs": [],
   "source": [
    "custom_train_df = CustomDataset(df_train, tokenizer)\n",
    "custom_validation_df = CustomDataset(df_test, tokenizer)"
   ]
  },
  {
   "cell_type": "code",
   "execution_count": 91,
   "id": "f310892d",
   "metadata": {},
   "outputs": [],
   "source": [
    "train_data_loader = torch.utils.data.DataLoader(\n",
    "    custom_train_df,\n",
    "    shuffle=True\n",
    ")\n",
    "\n",
    "validation_data_loader = torch.utils.data.DataLoader(\n",
    "    custom_validation_df,\n",
    "    shuffle=False\n",
    ")\n"
   ]
  },
  {
   "cell_type": "code",
   "execution_count": 92,
   "id": "a5f75f16",
   "metadata": {},
   "outputs": [
    {
     "name": "stdout",
     "output_type": "stream",
     "text": [
      "cpu\n"
     ]
    }
   ],
   "source": [
    "device = torch.device('cuda' if torch.cuda.is_available() else 'cpu')\n",
    "print(device)"
   ]
  },
  {
   "cell_type": "code",
   "execution_count": 93,
   "id": "520dc7d5",
   "metadata": {},
   "outputs": [],
   "source": [
    "def load_checkpoint(checkpoint_file, model, optimizer):\n",
    "    checkpoint = torch.load(checkpoint_file)\n",
    "    model.load_state_dict(checkpoint['state_dict'])\n",
    "    optimizer.load_state_dict(checkpoint['optimizer'])\n",
    "    valid_loss_min = checkpoint['valid_loss_min']\n",
    "    return model, optimizer, valid_loss_min.item(), checkpoint['epoch']\n",
    "\n",
    "def save_checkpoint(state, is_best, checkpoint_path, best_model_path):\n",
    "    file_path = checkpoint_path\n",
    "    torch.save(state, file_path)\n",
    "    if is_best:\n",
    "        best_file_path = best_model_path\n",
    "        shutil.copyfile(file_path, best_file_path)"
   ]
  },
  {
   "cell_type": "code",
   "execution_count": 94,
   "id": "53b171d5",
   "metadata": {},
   "outputs": [
    {
     "data": {
      "text/plain": [
       "BERTClass(\n",
       "  (bert): BertModel(\n",
       "    (embeddings): BertEmbeddings(\n",
       "      (word_embeddings): Embedding(28996, 768, padding_idx=0)\n",
       "      (position_embeddings): Embedding(512, 768)\n",
       "      (token_type_embeddings): Embedding(2, 768)\n",
       "      (LayerNorm): LayerNorm((768,), eps=1e-12, elementwise_affine=True)\n",
       "      (dropout): Dropout(p=0.1, inplace=False)\n",
       "    )\n",
       "    (encoder): BertEncoder(\n",
       "      (layer): ModuleList(\n",
       "        (0-11): 12 x BertLayer(\n",
       "          (attention): BertAttention(\n",
       "            (self): BertSdpaSelfAttention(\n",
       "              (query): Linear(in_features=768, out_features=768, bias=True)\n",
       "              (key): Linear(in_features=768, out_features=768, bias=True)\n",
       "              (value): Linear(in_features=768, out_features=768, bias=True)\n",
       "              (dropout): Dropout(p=0.1, inplace=False)\n",
       "            )\n",
       "            (output): BertSelfOutput(\n",
       "              (dense): Linear(in_features=768, out_features=768, bias=True)\n",
       "              (LayerNorm): LayerNorm((768,), eps=1e-12, elementwise_affine=True)\n",
       "              (dropout): Dropout(p=0.1, inplace=False)\n",
       "            )\n",
       "          )\n",
       "          (intermediate): BertIntermediate(\n",
       "            (dense): Linear(in_features=768, out_features=3072, bias=True)\n",
       "            (intermediate_act_fn): GELUActivation()\n",
       "          )\n",
       "          (output): BertOutput(\n",
       "            (dense): Linear(in_features=3072, out_features=768, bias=True)\n",
       "            (LayerNorm): LayerNorm((768,), eps=1e-12, elementwise_affine=True)\n",
       "            (dropout): Dropout(p=0.1, inplace=False)\n",
       "          )\n",
       "        )\n",
       "      )\n",
       "    )\n",
       "    (pooler): BertPooler(\n",
       "      (dense): Linear(in_features=768, out_features=768, bias=True)\n",
       "      (activation): Tanh()\n",
       "    )\n",
       "  )\n",
       "  (dropout): Dropout(p=0.3, inplace=False)\n",
       "  (linear): Linear(in_features=768, out_features=6, bias=True)\n",
       ")"
      ]
     },
     "execution_count": 94,
     "metadata": {},
     "output_type": "execute_result"
    }
   ],
   "source": [
    "class BERTClass(nn.Module):\n",
    "    def __init__(self):\n",
    "        super(BERTClass, self).__init__()\n",
    "        self.bert = BertModel.from_pretrained('bert-base-cased')\n",
    "        self.dropout = nn.Dropout(p=0.3)\n",
    "        self.linear = nn.Linear(self.bert.config.hidden_size, 6)\n",
    "\n",
    "    def forward(self, input_ids, attention_mask, token_type_ids):\n",
    "        output = self.bert(input_ids=input_ids, attention_mask=attention_mask, token_type_ids=token_type_ids)\n",
    "        output_dropout = self.dropout(output.pooler_output)\n",
    "        output = self.linear(output_dropout)\n",
    "        return output\n",
    "    \n",
    "model = BERTClass()\n",
    "model.to(device)"
   ]
  },
  {
   "cell_type": "code",
   "execution_count": 95,
   "id": "d49ad9d6",
   "metadata": {},
   "outputs": [],
   "source": [
    "def loss_fn(outputs, targets):\n",
    "    return nn.BCEWithLogitsLoss()(outputs, targets)\n",
    "\n",
    "optimizer = torch.optim.Adam(model.parameters(), lr=2e-5)"
   ]
  },
  {
   "cell_type": "code",
   "execution_count": 96,
   "id": "5a5548a6",
   "metadata": {},
   "outputs": [],
   "source": [
    "def train_model(n_epochs, train_data_loader, validation_data_loader, model, optimizer, checkpoint_path, best_model_path):\n",
    "    valid_loss_min = np.inf\n",
    "    for epoch in range(n_epochs):\n",
    "\n",
    "        # training phase\n",
    "        model.train()\n",
    "        train_loss = 0.0\n",
    "        for index, batch in enumerate(train_data_loader):\n",
    "            input_ids = batch['input_ids'].to(device)\n",
    "            attention_mask = batch['attention_mask'].to(device)\n",
    "            token_type_ids = batch['token_type_ids'].to(device)\n",
    "            targets = batch['targets'].to(device)\n",
    "            output = model(input_ids, attention_mask, token_type_ids)\n",
    "            optimizer.zero_grad()\n",
    "            loss = loss_fn(output, targets)\n",
    "            optimizer.zero_grad()\n",
    "            loss.backward()\n",
    "            optimizer.step()\n",
    "            train_loss += (1/ (index + 1)) * (loss.item() - train_loss)\n",
    "\n",
    "        # validation phase\n",
    "        model.eval()\n",
    "        valid_loss = 0.0\n",
    "        with torch.no_grad():\n",
    "            for index, batch in enumerate(validation_data_loader):\n",
    "                input_ids = batch['input_ids'].to(device)\n",
    "                attention_mask = batch['attention_mask'].to(device)\n",
    "                token_type_ids = batch['token_type_ids'].to(device)\n",
    "                targets = batch['targets'].to(device)\n",
    "                outputs = model(input_ids, attention_mask, token_type_ids)\n",
    "                loss = loss_fn(outputs, targets)\n",
    "                valid_loss += (1/ (index + 1)) * (loss.item() - valid_loss)\n",
    "\n",
    "        # checkpoint dictionary\n",
    "        checkpoint = {\n",
    "            'epoch': epoch + 1,\n",
    "            'state_dict': model.state_dict(),\n",
    "            'optimizer': optimizer.state_dict(),\n",
    "            'valid_loss_min': valid_loss_min\n",
    "        }\n",
    "\n",
    "        save_checkpoint(checkpoint, valid_loss < valid_loss_min, checkpoint_path, best_model_path)\n",
    "    \n",
    "    return model"
   ]
  },
  {
   "cell_type": "code",
   "execution_count": 97,
   "id": "72c57c9b",
   "metadata": {},
   "outputs": [],
   "source": [
    "trained_model = train_model(\n",
    "    n_epochs=2,\n",
    "    train_data_loader=train_data_loader,\n",
    "    validation_data_loader=validation_data_loader,\n",
    "    model=model,\n",
    "    optimizer=optimizer,\n",
    "    checkpoint_path=\"./checkpoint.pth\",\n",
    "    best_model_path=\"./best_model.pth\"\n",
    ")"
   ]
  },
  {
   "cell_type": "code",
   "execution_count": 99,
   "id": "e27b3b03",
   "metadata": {},
   "outputs": [
    {
     "name": "stdout",
     "output_type": "stream",
     "text": [
      "Output for 'Me sinto feliz!': [[0.31508126854896545, 0.024211129173636436, 0.02929740957915783, 0.3021167814731598, 0.13009771704673767, 0.06569305062294006]]\n"
     ]
    }
   ],
   "source": [
    "example_text = \"Me sinto feliz!\"\n",
    "\n",
    "encodings = tokenizer.encode_plus(\n",
    "    example_text,\n",
    "    add_special_tokens=True,\n",
    "    return_tensors=\"pt\",\n",
    "    padding=\"max_length\",\n",
    "    max_length=128,\n",
    "    truncation=True\n",
    ")\n",
    "\n",
    "model.eval()\n",
    "with torch.no_grad():\n",
    "    input_ids = encodings['input_ids'].to(device)\n",
    "    attention_mask = encodings['attention_mask'].to(device)\n",
    "    token_type_ids = encodings['token_type_ids'].to(device)\n",
    "    output = model(input_ids, attention_mask, token_type_ids)\n",
    "    final_output = torch.sigmoid(output).cpu().detach().numpy().tolist()\n",
    "    print(f\"Output for '{example_text}': {final_output}\")\n"
   ]
  }
 ],
 "metadata": {
  "kernelspec": {
   "display_name": "Python 3",
   "language": "python",
   "name": "python3"
  },
  "language_info": {
   "codemirror_mode": {
    "name": "ipython",
    "version": 3
   },
   "file_extension": ".py",
   "mimetype": "text/x-python",
   "name": "python",
   "nbconvert_exporter": "python",
   "pygments_lexer": "ipython3",
   "version": "3.13.1"
  }
 },
 "nbformat": 4,
 "nbformat_minor": 5
}
