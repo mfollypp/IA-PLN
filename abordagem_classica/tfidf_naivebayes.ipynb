{
 "cells": [
  {
   "cell_type": "code",
   "execution_count": 2,
   "id": "ee959ef6",
   "metadata": {},
   "outputs": [
    {
     "data": {
      "application/vnd.microsoft.datawrangler.viewer.v0+json": {
       "columns": [
        {
         "name": "index",
         "rawType": "int64",
         "type": "integer"
        },
        {
         "name": "id",
         "rawType": "object",
         "type": "string"
        },
        {
         "name": "text",
         "rawType": "object",
         "type": "string"
        },
        {
         "name": "anger",
         "rawType": "int64",
         "type": "integer"
        },
        {
         "name": "disgust",
         "rawType": "int64",
         "type": "integer"
        },
        {
         "name": "fear",
         "rawType": "int64",
         "type": "integer"
        },
        {
         "name": "joy",
         "rawType": "int64",
         "type": "integer"
        },
        {
         "name": "sadness",
         "rawType": "int64",
         "type": "integer"
        },
        {
         "name": "surprise",
         "rawType": "int64",
         "type": "integer"
        }
       ],
       "ref": "3ae8db7c-d369-44f7-a379-4192808a92b9",
       "rows": [
        [
         "0",
         "ptbr_dev_track_a_00001",
         "Eu n sou o com quem vc conversava, só fui mostrar q o STF tá s mandando investigar todos os lados, mas já q agora vc tá conversando com três users sobre o mesmo assunto, saiba q eu apoio s e agora vc apoia também já q vc disse \"só concordo se você apoiar que o STF mande investigar e prender anti-sistema de todos os lados\", então agora vc pode dizer q acha o Bolsonaro antidemocracia.",
         "1",
         "0",
         "0",
         "0",
         "0",
         "0"
        ],
        [
         "1",
         "ptbr_dev_track_a_00002",
         "sei nem qual é mais feio ???????",
         "0",
         "0",
         "0",
         "0",
         "0",
         "1"
        ],
        [
         "2",
         "ptbr_dev_track_a_00003",
         "essa aqui q vou fazer",
         "0",
         "0",
         "0",
         "0",
         "0",
         "0"
        ],
        [
         "3",
         "ptbr_dev_track_a_00004",
         "Eu entendi bem? Um pastor pede pra outro pastor levantar um grupo de pessoas e espancar ele no Twitter???? Q tipo de Deus esses caras seguem?? Q tipo de religião eles pregam???",
         "1",
         "1",
         "0",
         "0",
         "0",
         "1"
        ],
        [
         "4",
         "ptbr_dev_track_a_00005",
         "tá muito linda pqp",
         "0",
         "0",
         "0",
         "1",
         "0",
         "1"
        ]
       ],
       "shape": {
        "columns": 8,
        "rows": 5
       }
      },
      "text/html": [
       "<div>\n",
       "<style scoped>\n",
       "    .dataframe tbody tr th:only-of-type {\n",
       "        vertical-align: middle;\n",
       "    }\n",
       "\n",
       "    .dataframe tbody tr th {\n",
       "        vertical-align: top;\n",
       "    }\n",
       "\n",
       "    .dataframe thead th {\n",
       "        text-align: right;\n",
       "    }\n",
       "</style>\n",
       "<table border=\"1\" class=\"dataframe\">\n",
       "  <thead>\n",
       "    <tr style=\"text-align: right;\">\n",
       "      <th></th>\n",
       "      <th>id</th>\n",
       "      <th>text</th>\n",
       "      <th>anger</th>\n",
       "      <th>disgust</th>\n",
       "      <th>fear</th>\n",
       "      <th>joy</th>\n",
       "      <th>sadness</th>\n",
       "      <th>surprise</th>\n",
       "    </tr>\n",
       "  </thead>\n",
       "  <tbody>\n",
       "    <tr>\n",
       "      <th>0</th>\n",
       "      <td>ptbr_dev_track_a_00001</td>\n",
       "      <td>Eu n sou o com quem vc conversava, só fui most...</td>\n",
       "      <td>1</td>\n",
       "      <td>0</td>\n",
       "      <td>0</td>\n",
       "      <td>0</td>\n",
       "      <td>0</td>\n",
       "      <td>0</td>\n",
       "    </tr>\n",
       "    <tr>\n",
       "      <th>1</th>\n",
       "      <td>ptbr_dev_track_a_00002</td>\n",
       "      <td>sei nem qual é mais feio ???????</td>\n",
       "      <td>0</td>\n",
       "      <td>0</td>\n",
       "      <td>0</td>\n",
       "      <td>0</td>\n",
       "      <td>0</td>\n",
       "      <td>1</td>\n",
       "    </tr>\n",
       "    <tr>\n",
       "      <th>2</th>\n",
       "      <td>ptbr_dev_track_a_00003</td>\n",
       "      <td>essa aqui q vou fazer</td>\n",
       "      <td>0</td>\n",
       "      <td>0</td>\n",
       "      <td>0</td>\n",
       "      <td>0</td>\n",
       "      <td>0</td>\n",
       "      <td>0</td>\n",
       "    </tr>\n",
       "    <tr>\n",
       "      <th>3</th>\n",
       "      <td>ptbr_dev_track_a_00004</td>\n",
       "      <td>Eu entendi bem? Um pastor pede pra outro pasto...</td>\n",
       "      <td>1</td>\n",
       "      <td>1</td>\n",
       "      <td>0</td>\n",
       "      <td>0</td>\n",
       "      <td>0</td>\n",
       "      <td>1</td>\n",
       "    </tr>\n",
       "    <tr>\n",
       "      <th>4</th>\n",
       "      <td>ptbr_dev_track_a_00005</td>\n",
       "      <td>tá muito linda pqp</td>\n",
       "      <td>0</td>\n",
       "      <td>0</td>\n",
       "      <td>0</td>\n",
       "      <td>1</td>\n",
       "      <td>0</td>\n",
       "      <td>1</td>\n",
       "    </tr>\n",
       "  </tbody>\n",
       "</table>\n",
       "</div>"
      ],
      "text/plain": [
       "                       id                                               text  \\\n",
       "0  ptbr_dev_track_a_00001  Eu n sou o com quem vc conversava, só fui most...   \n",
       "1  ptbr_dev_track_a_00002                   sei nem qual é mais feio ???????   \n",
       "2  ptbr_dev_track_a_00003                              essa aqui q vou fazer   \n",
       "3  ptbr_dev_track_a_00004  Eu entendi bem? Um pastor pede pra outro pasto...   \n",
       "4  ptbr_dev_track_a_00005                                 tá muito linda pqp   \n",
       "\n",
       "   anger  disgust  fear  joy  sadness  surprise  \n",
       "0      1        0     0    0        0         0  \n",
       "1      0        0     0    0        0         1  \n",
       "2      0        0     0    0        0         0  \n",
       "3      1        1     0    0        0         1  \n",
       "4      0        0     0    1        0         1  "
      ]
     },
     "execution_count": 2,
     "metadata": {},
     "output_type": "execute_result"
    }
   ],
   "source": [
    "import pandas as pd\n",
    "from sklearn.feature_extraction.text import TfidfVectorizer\n",
    "from sklearn.linear_model import LogisticRegression\n",
    "from sklearn.multiclass import OneVsRestClassifier\n",
    "\n",
    "# Carregar dados\n",
    "df = pd.read_csv('dev_ptbr.csv')\n",
    "\n",
    "df.head()"
   ]
  },
  {
   "cell_type": "code",
   "execution_count": 3,
   "id": "ee5e9216",
   "metadata": {},
   "outputs": [],
   "source": [
    "# Features e labels\n",
    "X = df['text']\n",
    "y = df[['anger','disgust','fear','joy','sadness','surprise']].values\n",
    "\n",
    "# Vetorização\n",
    "vectorizer = TfidfVectorizer()\n",
    "X_vec = vectorizer.fit_transform(X)"
   ]
  },
  {
   "cell_type": "code",
   "execution_count": 8,
   "id": "13787aea",
   "metadata": {},
   "outputs": [],
   "source": [
    "# Modelo\n",
    "clf = OneVsRestClassifier(LogisticRegression())\n",
    "clf.fit(X_vec, y)\n",
    "\n",
    "# Predição\n",
    "def predict_emotions(text):\n",
    "    vec = vectorizer.transform([text])\n",
    "    pred = clf.predict(vec)[0]\n",
    "    print(pred)\n",
    "    emotions = ['anger','disgust','fear','joy','sadness','surprise']\n",
    "    return [emo for emo, val in zip(emotions, pred) if val == 1]"
   ]
  },
  {
   "cell_type": "code",
   "execution_count": 10,
   "id": "7aaa9a26",
   "metadata": {},
   "outputs": [
    {
     "name": "stdout",
     "output_type": "stream",
     "text": [
      "[0 0 0 0 0 0]\n",
      "[]\n"
     ]
    }
   ],
   "source": [
    "# Exemplo\n",
    "print(predict_emotions(\"feliz demais!\"))"
   ]
  }
 ],
 "metadata": {
  "kernelspec": {
   "display_name": "Python 3",
   "language": "python",
   "name": "python3"
  },
  "language_info": {
   "codemirror_mode": {
    "name": "ipython",
    "version": 3
   },
   "file_extension": ".py",
   "mimetype": "text/x-python",
   "name": "python",
   "nbconvert_exporter": "python",
   "pygments_lexer": "ipython3",
   "version": "3.13.1"
  }
 },
 "nbformat": 4,
 "nbformat_minor": 5
}
